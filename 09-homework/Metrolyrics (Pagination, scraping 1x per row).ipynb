{
 "cells": [
  {
   "cell_type": "code",
   "execution_count": 1,
   "metadata": {},
   "outputs": [],
   "source": [
    "import pandas as pd\n",
    "import requests\n",
    "from bs4 import BeautifulSoup"
   ]
  },
  {
   "cell_type": "code",
   "execution_count": 2,
   "metadata": {
    "scrolled": true
   },
   "outputs": [],
   "source": [
    "rows = []\n",
    "\n",
    "for page_num in range(1, 5):\n",
    "    url = f\"http://www.metrolyrics.com/rem-alpage-{page_num}\"\n",
    "    # print(\"Now scraping\", url)\n",
    "    \n",
    "    response = requests.get(url)\n",
    "    doc = BeautifulSoup(response.text)\n",
    "    \n",
    "    songs = doc.find('table').find_all('tr')\n",
    "    for song in songs[1:]:\n",
    "        row = {}\n",
    "        row['Song title'] = song.find(class_=\"title\").text.strip()\n",
    "        row['URL'] = song.find('a')['href']\n",
    "        row['Popularity'] = song.find_all('td')[3].find_all('span')[1].get('style')\n",
    "        row['Year'] = song.find_all('td')[2].text.strip()\n",
    "        rows.append(row)\n",
    "\n",
    "df = pd.DataFrame(rows)"
   ]
  },
  {
   "cell_type": "code",
   "execution_count": 3,
   "metadata": {},
   "outputs": [],
   "source": [
    "df['Popularity'] = df['Popularity'].str.extract(\"width:(.*)%;\", expand=False)"
   ]
  },
  {
   "cell_type": "code",
   "execution_count": 4,
   "metadata": {
    "scrolled": true
   },
   "outputs": [
    {
     "data": {
      "text/html": [
       "<div>\n",
       "<style scoped>\n",
       "    .dataframe tbody tr th:only-of-type {\n",
       "        vertical-align: middle;\n",
       "    }\n",
       "\n",
       "    .dataframe tbody tr th {\n",
       "        vertical-align: top;\n",
       "    }\n",
       "\n",
       "    .dataframe thead th {\n",
       "        text-align: right;\n",
       "    }\n",
       "</style>\n",
       "<table border=\"1\" class=\"dataframe\">\n",
       "  <thead>\n",
       "    <tr style=\"text-align: right;\">\n",
       "      <th></th>\n",
       "      <th>Song title</th>\n",
       "      <th>URL</th>\n",
       "      <th>Popularity</th>\n",
       "      <th>Year</th>\n",
       "    </tr>\n",
       "  </thead>\n",
       "  <tbody>\n",
       "    <tr>\n",
       "      <th>0</th>\n",
       "      <td>#9 Dream Lyrics</td>\n",
       "      <td>http://www.metrolyrics.com/9-dream-lyrics-rem....</td>\n",
       "      <td>6</td>\n",
       "      <td>2007</td>\n",
       "    </tr>\n",
       "    <tr>\n",
       "      <th>1</th>\n",
       "      <td>1,000,000 Lyrics</td>\n",
       "      <td>http://www.metrolyrics.com/1000000-lyrics-rem....</td>\n",
       "      <td>6</td>\n",
       "      <td>2006</td>\n",
       "    </tr>\n",
       "    <tr>\n",
       "      <th>2</th>\n",
       "      <td>11 Lyrics</td>\n",
       "      <td>http://www.metrolyrics.com/11-lyrics-rem.html</td>\n",
       "      <td>6</td>\n",
       "      <td>2007</td>\n",
       "    </tr>\n",
       "    <tr>\n",
       "      <th>3</th>\n",
       "      <td>11th Untitled Song Lyrics</td>\n",
       "      <td>http://www.metrolyrics.com/11th-untitled-song-...</td>\n",
       "      <td>6</td>\n",
       "      <td>2006</td>\n",
       "    </tr>\n",
       "    <tr>\n",
       "      <th>4</th>\n",
       "      <td>7 Chinese Brothers Lyrics</td>\n",
       "      <td>http://www.metrolyrics.com/7-chinese-brothers-...</td>\n",
       "      <td>6</td>\n",
       "      <td>2007</td>\n",
       "    </tr>\n",
       "  </tbody>\n",
       "</table>\n",
       "</div>"
      ],
      "text/plain": [
       "                  Song title  \\\n",
       "0            #9 Dream Lyrics   \n",
       "1           1,000,000 Lyrics   \n",
       "2                  11 Lyrics   \n",
       "3  11th Untitled Song Lyrics   \n",
       "4  7 Chinese Brothers Lyrics   \n",
       "\n",
       "                                                 URL Popularity  Year  \n",
       "0  http://www.metrolyrics.com/9-dream-lyrics-rem....          6  2007  \n",
       "1  http://www.metrolyrics.com/1000000-lyrics-rem....          6  2006  \n",
       "2      http://www.metrolyrics.com/11-lyrics-rem.html          6  2007  \n",
       "3  http://www.metrolyrics.com/11th-untitled-song-...          6  2006  \n",
       "4  http://www.metrolyrics.com/7-chinese-brothers-...          6  2007  "
      ]
     },
     "execution_count": 4,
     "metadata": {},
     "output_type": "execute_result"
    }
   ],
   "source": [
    "df = df[['Song title', 'URL', 'Popularity', 'Year']]\n",
    "df.head()"
   ]
  },
  {
   "cell_type": "code",
   "execution_count": 5,
   "metadata": {},
   "outputs": [],
   "source": [
    "df.to_csv(\"song-list.csv\", index=False)"
   ]
  },
  {
   "cell_type": "markdown",
   "metadata": {},
   "source": [
    "# Metrolyrics, Part 2: Scrape the lyrics pages"
   ]
  },
  {
   "cell_type": "code",
   "execution_count": 6,
   "metadata": {},
   "outputs": [],
   "source": [
    "import pandas as pd"
   ]
  },
  {
   "cell_type": "code",
   "execution_count": 7,
   "metadata": {},
   "outputs": [],
   "source": [
    "df = pd.read_csv(\"song-list.csv\")"
   ]
  },
  {
   "cell_type": "code",
   "execution_count": 8,
   "metadata": {},
   "outputs": [],
   "source": [
    "def scrape_page(row):\n",
    "    # print(\"Scraping\", row['URL'])\n",
    "    url = row['URL']\n",
    "    \n",
    "    response = requests.get(url)\n",
    "    doc = BeautifulSoup(response.text)\n",
    "\n",
    "    page = {}\n",
    "    lyrics = doc.find_all(class_='verse')\n",
    "    page['Lyrics'] = '\\n'.join([lyric.text.strip() for lyric in lyrics])\n",
    "\n",
    "    return pd.Series(page)"
   ]
  },
  {
   "cell_type": "code",
   "execution_count": 9,
   "metadata": {},
   "outputs": [],
   "source": [
    "scraped_df = df.apply(scrape_page, axis=1)"
   ]
  },
  {
   "cell_type": "code",
   "execution_count": 10,
   "metadata": {},
   "outputs": [
    {
     "data": {
      "text/html": [
       "<div>\n",
       "<style scoped>\n",
       "    .dataframe tbody tr th:only-of-type {\n",
       "        vertical-align: middle;\n",
       "    }\n",
       "\n",
       "    .dataframe tbody tr th {\n",
       "        vertical-align: top;\n",
       "    }\n",
       "\n",
       "    .dataframe thead th {\n",
       "        text-align: right;\n",
       "    }\n",
       "</style>\n",
       "<table border=\"1\" class=\"dataframe\">\n",
       "  <thead>\n",
       "    <tr style=\"text-align: right;\">\n",
       "      <th></th>\n",
       "      <th>Song title</th>\n",
       "      <th>URL</th>\n",
       "      <th>Popularity</th>\n",
       "      <th>Year</th>\n",
       "      <th>Lyrics</th>\n",
       "    </tr>\n",
       "  </thead>\n",
       "  <tbody>\n",
       "    <tr>\n",
       "      <th>0</th>\n",
       "      <td>#9 Dream Lyrics</td>\n",
       "      <td>http://www.metrolyrics.com/9-dream-lyrics-rem....</td>\n",
       "      <td>6.0</td>\n",
       "      <td>2007</td>\n",
       "      <td>It was so long ago, was it in a dream?\\nWas it...</td>\n",
       "    </tr>\n",
       "    <tr>\n",
       "      <th>1</th>\n",
       "      <td>1,000,000 Lyrics</td>\n",
       "      <td>http://www.metrolyrics.com/1000000-lyrics-rem....</td>\n",
       "      <td>6.0</td>\n",
       "      <td>2006</td>\n",
       "      <td>Secluded in a marker stone not only deadlier\\n...</td>\n",
       "    </tr>\n",
       "    <tr>\n",
       "      <th>2</th>\n",
       "      <td>11 Lyrics</td>\n",
       "      <td>http://www.metrolyrics.com/11-lyrics-rem.html</td>\n",
       "      <td>6.0</td>\n",
       "      <td>2007</td>\n",
       "      <td></td>\n",
       "    </tr>\n",
       "    <tr>\n",
       "      <th>3</th>\n",
       "      <td>11th Untitled Song Lyrics</td>\n",
       "      <td>http://www.metrolyrics.com/11th-untitled-song-...</td>\n",
       "      <td>6.0</td>\n",
       "      <td>2006</td>\n",
       "      <td>This world is big and so-awake\\nI stayed up la...</td>\n",
       "    </tr>\n",
       "    <tr>\n",
       "      <th>4</th>\n",
       "      <td>7 Chinese Brothers Lyrics</td>\n",
       "      <td>http://www.metrolyrics.com/7-chinese-brothers-...</td>\n",
       "      <td>6.0</td>\n",
       "      <td>2007</td>\n",
       "      <td>This mellow, sweet, short-haired boy\\nWoman of...</td>\n",
       "    </tr>\n",
       "  </tbody>\n",
       "</table>\n",
       "</div>"
      ],
      "text/plain": [
       "                  Song title  \\\n",
       "0            #9 Dream Lyrics   \n",
       "1           1,000,000 Lyrics   \n",
       "2                  11 Lyrics   \n",
       "3  11th Untitled Song Lyrics   \n",
       "4  7 Chinese Brothers Lyrics   \n",
       "\n",
       "                                                 URL  Popularity  Year  \\\n",
       "0  http://www.metrolyrics.com/9-dream-lyrics-rem....         6.0  2007   \n",
       "1  http://www.metrolyrics.com/1000000-lyrics-rem....         6.0  2006   \n",
       "2      http://www.metrolyrics.com/11-lyrics-rem.html         6.0  2007   \n",
       "3  http://www.metrolyrics.com/11th-untitled-song-...         6.0  2006   \n",
       "4  http://www.metrolyrics.com/7-chinese-brothers-...         6.0  2007   \n",
       "\n",
       "                                              Lyrics  \n",
       "0  It was so long ago, was it in a dream?\\nWas it...  \n",
       "1  Secluded in a marker stone not only deadlier\\n...  \n",
       "2                                                     \n",
       "3  This world is big and so-awake\\nI stayed up la...  \n",
       "4  This mellow, sweet, short-haired boy\\nWoman of...  "
      ]
     },
     "execution_count": 10,
     "metadata": {},
     "output_type": "execute_result"
    }
   ],
   "source": [
    "df2 = df.merge(scraped_df, left_index=True, right_index=True)\n",
    "df2.head()"
   ]
  },
  {
   "cell_type": "code",
   "execution_count": 11,
   "metadata": {},
   "outputs": [],
   "source": [
    "df2.to_csv(\"song-lyrics.csv\", index=False)"
   ]
  }
 ],
 "metadata": {
  "kernelspec": {
   "display_name": "Python 3",
   "language": "python",
   "name": "python3"
  },
  "language_info": {
   "codemirror_mode": {
    "name": "ipython",
    "version": 3
   },
   "file_extension": ".py",
   "mimetype": "text/x-python",
   "name": "python",
   "nbconvert_exporter": "python",
   "pygments_lexer": "ipython3",
   "version": "3.7.1"
  }
 },
 "nbformat": 4,
 "nbformat_minor": 2
}
