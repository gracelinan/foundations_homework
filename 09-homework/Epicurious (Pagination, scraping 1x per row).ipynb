{
 "cells": [
  {
   "cell_type": "code",
   "execution_count": 1,
   "metadata": {},
   "outputs": [],
   "source": [
    "import pandas as pd\n",
    "import requests\n",
    "from bs4 import BeautifulSoup"
   ]
  },
  {
   "cell_type": "code",
   "execution_count": 2,
   "metadata": {},
   "outputs": [],
   "source": [
    "rows = []\n",
    "\n",
    "for page_num in range(1, 11):\n",
    "    url = f\"https://www.epicurious.com/search/cucumbers?page={page_num}\"\n",
    "    # print(\"Now scraping\", url)\n",
    "    \n",
    "    response = requests.get(url)\n",
    "    doc = BeautifulSoup(response.text)\n",
    "    \n",
    "    results = doc.find_all(\"article\")\n",
    "    for result in results[:-1]:\n",
    "        row = {}\n",
    "        row['Category'] = result.find(class_=\"tag\").text.strip()\n",
    "        row['Title'] = result.find(\"h4\").text.strip()\n",
    "        row['Summary'] = result.find(class_=\"dek\").text.strip()\n",
    "        try:\n",
    "            row['Rating'] = result.find(class_=\"rating\").text.strip()\n",
    "        except:\n",
    "            pass\n",
    "        try:\n",
    "            row['Would make again'] = result.find(class_=\"make-again-percentage\").text.strip()\n",
    "        except:\n",
    "            pass\n",
    "        row['URL'] = result.find(\"a\")['href']\n",
    "        rows.append(row)\n",
    "\n",
    "df = pd.DataFrame(rows)"
   ]
  },
  {
   "cell_type": "code",
   "execution_count": 3,
   "metadata": {},
   "outputs": [],
   "source": [
    "df['Rating'] = df.Rating.str.extract(\"(\\d.*)/.\", expand=False)"
   ]
  },
  {
   "cell_type": "code",
   "execution_count": 4,
   "metadata": {},
   "outputs": [
    {
     "data": {
      "text/html": [
       "<div>\n",
       "<style scoped>\n",
       "    .dataframe tbody tr th:only-of-type {\n",
       "        vertical-align: middle;\n",
       "    }\n",
       "\n",
       "    .dataframe tbody tr th {\n",
       "        vertical-align: top;\n",
       "    }\n",
       "\n",
       "    .dataframe thead th {\n",
       "        text-align: right;\n",
       "    }\n",
       "</style>\n",
       "<table border=\"1\" class=\"dataframe\">\n",
       "  <thead>\n",
       "    <tr style=\"text-align: right;\">\n",
       "      <th></th>\n",
       "      <th>Category</th>\n",
       "      <th>Title</th>\n",
       "      <th>Summary</th>\n",
       "      <th>Rating</th>\n",
       "      <th>Would make again</th>\n",
       "      <th>URL</th>\n",
       "    </tr>\n",
       "  </thead>\n",
       "  <tbody>\n",
       "    <tr>\n",
       "      <th>0</th>\n",
       "      <td>recipe</td>\n",
       "      <td>Spicy Lightly Pickled Cucumbers</td>\n",
       "      <td>These quick pickles have just the right amount...</td>\n",
       "      <td>4</td>\n",
       "      <td>100%</td>\n",
       "      <td>/recipes/food/views/spicy-lightly-pickled-cucu...</td>\n",
       "    </tr>\n",
       "    <tr>\n",
       "      <th>1</th>\n",
       "      <td>recipe</td>\n",
       "      <td>Cucumbers with Ajo Blanco Sauce</td>\n",
       "      <td>Think of this as an all-purpose garlic sauce. ...</td>\n",
       "      <td>4</td>\n",
       "      <td>100%</td>\n",
       "      <td>/recipes/food/views/cucumbers-with-ajo-blanco-...</td>\n",
       "    </tr>\n",
       "    <tr>\n",
       "      <th>2</th>\n",
       "      <td>recipe</td>\n",
       "      <td>Cold Beef Tenderloin with Tomatoes and Cucumbers</td>\n",
       "      <td>Beef tenderloin is precious enough to baby on ...</td>\n",
       "      <td>2</td>\n",
       "      <td>0%</td>\n",
       "      <td>/recipes/food/views/cold-beef-tenderloin-with-...</td>\n",
       "    </tr>\n",
       "    <tr>\n",
       "      <th>3</th>\n",
       "      <td>recipe</td>\n",
       "      <td>Fried Fish Sandwiches with Cucumbers and Tarta...</td>\n",
       "      <td>Take your cast-iron pan to the grill for this ...</td>\n",
       "      <td>3</td>\n",
       "      <td>100%</td>\n",
       "      <td>/recipes/food/views/fried-fish-sandwiches-with...</td>\n",
       "    </tr>\n",
       "    <tr>\n",
       "      <th>4</th>\n",
       "      <td>recipe</td>\n",
       "      <td>Grain Salad with Tomatoes and Cucumbers</td>\n",
       "      <td>We call for semi-pearled grains because they c...</td>\n",
       "      <td>3</td>\n",
       "      <td>100%</td>\n",
       "      <td>/recipes/food/views/farro-spelt-grain-salad-wi...</td>\n",
       "    </tr>\n",
       "  </tbody>\n",
       "</table>\n",
       "</div>"
      ],
      "text/plain": [
       "  Category                                              Title  \\\n",
       "0   recipe                    Spicy Lightly Pickled Cucumbers   \n",
       "1   recipe                    Cucumbers with Ajo Blanco Sauce   \n",
       "2   recipe   Cold Beef Tenderloin with Tomatoes and Cucumbers   \n",
       "3   recipe  Fried Fish Sandwiches with Cucumbers and Tarta...   \n",
       "4   recipe            Grain Salad with Tomatoes and Cucumbers   \n",
       "\n",
       "                                             Summary Rating Would make again  \\\n",
       "0  These quick pickles have just the right amount...      4             100%   \n",
       "1  Think of this as an all-purpose garlic sauce. ...      4             100%   \n",
       "2  Beef tenderloin is precious enough to baby on ...      2               0%   \n",
       "3  Take your cast-iron pan to the grill for this ...      3             100%   \n",
       "4  We call for semi-pearled grains because they c...      3             100%   \n",
       "\n",
       "                                                 URL  \n",
       "0  /recipes/food/views/spicy-lightly-pickled-cucu...  \n",
       "1  /recipes/food/views/cucumbers-with-ajo-blanco-...  \n",
       "2  /recipes/food/views/cold-beef-tenderloin-with-...  \n",
       "3  /recipes/food/views/fried-fish-sandwiches-with...  \n",
       "4  /recipes/food/views/farro-spelt-grain-salad-wi...  "
      ]
     },
     "execution_count": 4,
     "metadata": {},
     "output_type": "execute_result"
    }
   ],
   "source": [
    "df = df[['Category', 'Title', 'Summary', 'Rating', 'Would make again', 'URL']]\n",
    "df.head()"
   ]
  },
  {
   "cell_type": "code",
   "execution_count": 5,
   "metadata": {},
   "outputs": [],
   "source": [
    "df.to_csv(\"cucumber-results.csv\", index=False)"
   ]
  },
  {
   "cell_type": "markdown",
   "metadata": {},
   "source": [
    "# Epicurious, Part 2: Once-per-row scraping"
   ]
  },
  {
   "cell_type": "code",
   "execution_count": 6,
   "metadata": {},
   "outputs": [],
   "source": [
    "import pandas as pd"
   ]
  },
  {
   "cell_type": "code",
   "execution_count": 7,
   "metadata": {},
   "outputs": [],
   "source": [
    "df = pd.read_csv(\"cucumber-results.csv\")\n",
    "df2 = df[df.Category == 'recipe']"
   ]
  },
  {
   "cell_type": "code",
   "execution_count": 8,
   "metadata": {},
   "outputs": [],
   "source": [
    "def scrape_page(row):\n",
    "    url = f\"https://www.epicurious.com{row['URL']}\"\n",
    "    # print(\"Scraping\", row['URL'])\n",
    "    \n",
    "    response = requests.get(url)\n",
    "    doc = BeautifulSoup(response.text)\n",
    "\n",
    "    page = {}\n",
    "    ingredients = doc.find_all(class_='ingredient')\n",
    "    page['Ingredients'] = '\\n'.join([ingredient.text.strip() for ingredient in ingredients])\n",
    "    directions = doc.find_all(class_=\"preparation-step\")\n",
    "    page['Directions'] = '\\n'.join([direction.text.strip() for direction in directions])\n",
    "    tags = doc.find(class_=\"menus-tags content\").find_all('dt')\n",
    "    page['Tags'] = '\\n'.join([tag.text.strip() for tag in tags])\n",
    "\n",
    "    return pd.Series(page)"
   ]
  },
  {
   "cell_type": "code",
   "execution_count": 9,
   "metadata": {},
   "outputs": [
    {
     "data": {
      "text/html": [
       "<div>\n",
       "<style scoped>\n",
       "    .dataframe tbody tr th:only-of-type {\n",
       "        vertical-align: middle;\n",
       "    }\n",
       "\n",
       "    .dataframe tbody tr th {\n",
       "        vertical-align: top;\n",
       "    }\n",
       "\n",
       "    .dataframe thead th {\n",
       "        text-align: right;\n",
       "    }\n",
       "</style>\n",
       "<table border=\"1\" class=\"dataframe\">\n",
       "  <thead>\n",
       "    <tr style=\"text-align: right;\">\n",
       "      <th></th>\n",
       "      <th>Ingredients</th>\n",
       "      <th>Directions</th>\n",
       "      <th>Tags</th>\n",
       "    </tr>\n",
       "  </thead>\n",
       "  <tbody>\n",
       "    <tr>\n",
       "      <th>0</th>\n",
       "      <td>2 lb. medium Persian cucumbers (about 12), cut...</td>\n",
       "      <td>Toss cucumbers in a large bowl with vinegar, s...</td>\n",
       "      <td>Bon Appétit\\nPickles\\nHors D'Oeuvre\\nAppetizer...</td>\n",
       "    </tr>\n",
       "    <tr>\n",
       "      <th>1</th>\n",
       "      <td>5 mini seedless or Persian cucumbers (about 12...</td>\n",
       "      <td>Preheat oven to 350°F. Cut cucumbers about 1\" ...</td>\n",
       "      <td>Bon Appétit\\nSauce\\nCondiment\\nGarlic\\nAlmond\\...</td>\n",
       "    </tr>\n",
       "    <tr>\n",
       "      <th>2</th>\n",
       "      <td>1/4 cup extra-virgin olive oil, plus more\\n1 (...</td>\n",
       "      <td>Prepare a grill for 2-zone heat (for a charcoa...</td>\n",
       "      <td>Bon Appétit\\nDinner\\nBeef Tenderloin\\nBeef\\nTo...</td>\n",
       "    </tr>\n",
       "    <tr>\n",
       "      <th>3</th>\n",
       "      <td>1/2 cup mayonnaise\\n1/4 cup finely grated lemo...</td>\n",
       "      <td>Mix mayonnaise, lemon zest and juice, relish, ...</td>\n",
       "      <td>Bon Appétit\\nSandwich\\nFish\\nSeafood\\nFry\\nBee...</td>\n",
       "    </tr>\n",
       "    <tr>\n",
       "      <th>4</th>\n",
       "      <td>2 cups semi-pearled farro or spelt\\nKosher sal...</td>\n",
       "      <td>Preheat oven to 350°F. Cook farro in a large D...</td>\n",
       "      <td>Bon Appétit\\nSalad\\nSide\\nGrains\\nCucumber\\nTo...</td>\n",
       "    </tr>\n",
       "  </tbody>\n",
       "</table>\n",
       "</div>"
      ],
      "text/plain": [
       "                                         Ingredients  \\\n",
       "0  2 lb. medium Persian cucumbers (about 12), cut...   \n",
       "1  5 mini seedless or Persian cucumbers (about 12...   \n",
       "2  1/4 cup extra-virgin olive oil, plus more\\n1 (...   \n",
       "3  1/2 cup mayonnaise\\n1/4 cup finely grated lemo...   \n",
       "4  2 cups semi-pearled farro or spelt\\nKosher sal...   \n",
       "\n",
       "                                          Directions  \\\n",
       "0  Toss cucumbers in a large bowl with vinegar, s...   \n",
       "1  Preheat oven to 350°F. Cut cucumbers about 1\" ...   \n",
       "2  Prepare a grill for 2-zone heat (for a charcoa...   \n",
       "3  Mix mayonnaise, lemon zest and juice, relish, ...   \n",
       "4  Preheat oven to 350°F. Cook farro in a large D...   \n",
       "\n",
       "                                                Tags  \n",
       "0  Bon Appétit\\nPickles\\nHors D'Oeuvre\\nAppetizer...  \n",
       "1  Bon Appétit\\nSauce\\nCondiment\\nGarlic\\nAlmond\\...  \n",
       "2  Bon Appétit\\nDinner\\nBeef Tenderloin\\nBeef\\nTo...  \n",
       "3  Bon Appétit\\nSandwich\\nFish\\nSeafood\\nFry\\nBee...  \n",
       "4  Bon Appétit\\nSalad\\nSide\\nGrains\\nCucumber\\nTo...  "
      ]
     },
     "execution_count": 9,
     "metadata": {},
     "output_type": "execute_result"
    }
   ],
   "source": [
    "scraped_df = df2.apply(scrape_page, axis=1)\n",
    "scraped_df.head()"
   ]
  },
  {
   "cell_type": "code",
   "execution_count": 10,
   "metadata": {},
   "outputs": [],
   "source": [
    "df3 = df2.merge(scraped_df, left_index=True, right_index=True)"
   ]
  },
  {
   "cell_type": "code",
   "execution_count": 11,
   "metadata": {},
   "outputs": [],
   "source": [
    "df3.to_csv(\"cucumber-recipes.csv\", index=False)"
   ]
  }
 ],
 "metadata": {
  "kernelspec": {
   "display_name": "Python 3",
   "language": "python",
   "name": "python3"
  },
  "language_info": {
   "codemirror_mode": {
    "name": "ipython",
    "version": 3
   },
   "file_extension": ".py",
   "mimetype": "text/x-python",
   "name": "python",
   "nbconvert_exporter": "python",
   "pygments_lexer": "ipython3",
   "version": "3.7.1"
  }
 },
 "nbformat": 4,
 "nbformat_minor": 2
}
