{
 "cells": [
  {
   "cell_type": "code",
   "execution_count": 1,
   "metadata": {},
   "outputs": [],
   "source": [
    "import pandas as pd\n",
    "import requests\n",
    "from bs4 import BeautifulSoup"
   ]
  },
  {
   "cell_type": "code",
   "execution_count": 2,
   "metadata": {},
   "outputs": [],
   "source": [
    "rows = []\n",
    "\n",
    "for page_num in range(1, 15):\n",
    "    url = f\"https://www.goodreads.com/list/show/6934.Science_Fiction_Books_by_Female_Authors?page={page_num}\"\n",
    "    # print(\"Now scraping\", url)\n",
    "    \n",
    "    response = requests.get(url)\n",
    "    doc = BeautifulSoup(response.text)\n",
    "    \n",
    "    books = doc.find_all('tr')\n",
    "\n",
    "    for book in books:\n",
    "        row = {}\n",
    "        row['Rank'] = book.find(class_=\"number\").text\n",
    "        row['Title'] = book.find(itemprop=\"name\").text\n",
    "        row['Author'] = book.find(class_=\"authorName\").text\n",
    "        row['Score'] = book.find(class_=\"smallText uitext\").find('a').text\n",
    "        row['Votes'] = book.find(class_=\"smallText uitext\").find('img').find_previous_sibling('a').text\n",
    "        row['Rating'] = book.find(class_=\"minirating\").text\n",
    "        rows.append(row)\n",
    "\n",
    "df = pd.DataFrame(rows)"
   ]
  },
  {
   "cell_type": "code",
   "execution_count": 3,
   "metadata": {},
   "outputs": [],
   "source": [
    "df['Number in series'] = df['Title'].str.extract(\".+\\(.*, #(.*)\\)\", expand=False)"
   ]
  },
  {
   "cell_type": "code",
   "execution_count": 4,
   "metadata": {},
   "outputs": [],
   "source": [
    "df['Series'] = df['Title'].str.extract(\".+\\((.+).*#\\d+\\)\", expand=False)\n",
    "df['Series'] = df.Series.str.replace(',', '')"
   ]
  },
  {
   "cell_type": "code",
   "execution_count": 5,
   "metadata": {},
   "outputs": [],
   "source": [
    "df['Title1'] = df['Title'].str.extract(\"(.+)\\(.*\", expand=False)\n",
    "df.loc[df.Title1.isnull(), 'Title1'] = df['Title']\n",
    "df['Title'] = df['Title1']"
   ]
  },
  {
   "cell_type": "code",
   "execution_count": 6,
   "metadata": {},
   "outputs": [],
   "source": [
    "df['Score'] = df['Score'].str.extract(\"score: (.*)\", expand=False)\n",
    "df['Score'] = df['Score'].str.replace(',', '')"
   ]
  },
  {
   "cell_type": "code",
   "execution_count": 7,
   "metadata": {},
   "outputs": [],
   "source": [
    "df['Avg rating'] = df['Rating'].str.extract(\"(.*) avg.+\", expand=False)\n",
    "df['Number of ratings'] = df['Rating'].str.extract(\".* (.+) ratings\", expand=False)\n",
    "df['Number of ratings'] = df['Number of ratings'].str.replace(',', '')"
   ]
  },
  {
   "cell_type": "code",
   "execution_count": 8,
   "metadata": {},
   "outputs": [],
   "source": [
    "df['Votes'] = df['Votes'].str.extract(\"(.*) p.+\", expand=False)"
   ]
  },
  {
   "cell_type": "code",
   "execution_count": 9,
   "metadata": {},
   "outputs": [],
   "source": [
    "df = df[['Rank', 'Title', 'Series', 'Number in series', 'Author', 'Score', 'Votes', 'Avg rating', 'Number of ratings']]"
   ]
  },
  {
   "cell_type": "code",
   "execution_count": 10,
   "metadata": {},
   "outputs": [
    {
     "data": {
      "text/html": [
       "<div>\n",
       "<style scoped>\n",
       "    .dataframe tbody tr th:only-of-type {\n",
       "        vertical-align: middle;\n",
       "    }\n",
       "\n",
       "    .dataframe tbody tr th {\n",
       "        vertical-align: top;\n",
       "    }\n",
       "\n",
       "    .dataframe thead th {\n",
       "        text-align: right;\n",
       "    }\n",
       "</style>\n",
       "<table border=\"1\" class=\"dataframe\">\n",
       "  <thead>\n",
       "    <tr style=\"text-align: right;\">\n",
       "      <th></th>\n",
       "      <th>Rank</th>\n",
       "      <th>Title</th>\n",
       "      <th>Series</th>\n",
       "      <th>Number in series</th>\n",
       "      <th>Author</th>\n",
       "      <th>Score</th>\n",
       "      <th>Votes</th>\n",
       "      <th>Avg rating</th>\n",
       "      <th>Number of ratings</th>\n",
       "    </tr>\n",
       "  </thead>\n",
       "  <tbody>\n",
       "    <tr>\n",
       "      <th>0</th>\n",
       "      <td>1</td>\n",
       "      <td>The Handmaid's Tale</td>\n",
       "      <td>NaN</td>\n",
       "      <td>NaN</td>\n",
       "      <td>Margaret Atwood</td>\n",
       "      <td>30733</td>\n",
       "      <td>314</td>\n",
       "      <td>4.09</td>\n",
       "      <td>1103055</td>\n",
       "    </tr>\n",
       "    <tr>\n",
       "      <th>1</th>\n",
       "      <td>2</td>\n",
       "      <td>The Hunger Games</td>\n",
       "      <td>The Hunger Games</td>\n",
       "      <td>1</td>\n",
       "      <td>Suzanne Collins</td>\n",
       "      <td>28553</td>\n",
       "      <td>292</td>\n",
       "      <td>4.33</td>\n",
       "      <td>5742381</td>\n",
       "    </tr>\n",
       "    <tr>\n",
       "      <th>2</th>\n",
       "      <td>3</td>\n",
       "      <td>Frankenstein</td>\n",
       "      <td>NaN</td>\n",
       "      <td>NaN</td>\n",
       "      <td>Mary Wollstonecraft Shelley</td>\n",
       "      <td>21909</td>\n",
       "      <td>224</td>\n",
       "      <td>3.78</td>\n",
       "      <td>1023619</td>\n",
       "    </tr>\n",
       "    <tr>\n",
       "      <th>3</th>\n",
       "      <td>4</td>\n",
       "      <td>A Wrinkle in Time</td>\n",
       "      <td>Time Quintet</td>\n",
       "      <td>1</td>\n",
       "      <td>Madeleine L'Engle</td>\n",
       "      <td>18720</td>\n",
       "      <td>196</td>\n",
       "      <td>4.01</td>\n",
       "      <td>903708</td>\n",
       "    </tr>\n",
       "    <tr>\n",
       "      <th>4</th>\n",
       "      <td>5</td>\n",
       "      <td>The Left Hand of Darkness</td>\n",
       "      <td>Hainish Cycle</td>\n",
       "      <td>NaN</td>\n",
       "      <td>Ursula K. Le Guin</td>\n",
       "      <td>17920</td>\n",
       "      <td>184</td>\n",
       "      <td>4.06</td>\n",
       "      <td>98822</td>\n",
       "    </tr>\n",
       "  </tbody>\n",
       "</table>\n",
       "</div>"
      ],
      "text/plain": [
       "  Rank                       Title             Series Number in series  \\\n",
       "0    1         The Handmaid's Tale                NaN              NaN   \n",
       "1    2           The Hunger Games   The Hunger Games                 1   \n",
       "2    3                Frankenstein                NaN              NaN   \n",
       "3    4          A Wrinkle in Time       Time Quintet                 1   \n",
       "4    5  The Left Hand of Darkness      Hainish Cycle               NaN   \n",
       "\n",
       "                        Author  Score Votes Avg rating Number of ratings  \n",
       "0              Margaret Atwood  30733   314       4.09           1103055  \n",
       "1              Suzanne Collins  28553   292       4.33           5742381  \n",
       "2  Mary Wollstonecraft Shelley  21909   224       3.78           1023619  \n",
       "3            Madeleine L'Engle  18720   196       4.01            903708  \n",
       "4            Ursula K. Le Guin  17920   184       4.06             98822  "
      ]
     },
     "execution_count": 10,
     "metadata": {},
     "output_type": "execute_result"
    }
   ],
   "source": [
    "df.head()"
   ]
  },
  {
   "cell_type": "code",
   "execution_count": 11,
   "metadata": {},
   "outputs": [],
   "source": [
    "df.to_csv(\"Science-Fiction.csv\", index=False)"
   ]
  }
 ],
 "metadata": {
  "kernelspec": {
   "display_name": "Python 3",
   "language": "python",
   "name": "python3"
  },
  "language_info": {
   "codemirror_mode": {
    "name": "ipython",
    "version": 3
   },
   "file_extension": ".py",
   "mimetype": "text/x-python",
   "name": "python",
   "nbconvert_exporter": "python",
   "pygments_lexer": "ipython3",
   "version": "3.7.1"
  }
 },
 "nbformat": 4,
 "nbformat_minor": 2
}
