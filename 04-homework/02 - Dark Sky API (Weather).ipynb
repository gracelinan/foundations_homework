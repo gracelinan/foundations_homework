{
 "cells": [
  {
   "cell_type": "markdown",
   "metadata": {},
   "source": [
    "# Dark Sky API (Weather)\n",
    "\n",
    "Answer the following questions using the [Dark Sky API](https://darksky.net/dev/). I've added three cells for each question but you're free to use more or less! Hold `Shift` and hit `Enter` to run a cell, and use the `+` on the top left to add a new cell to a notebook.\n",
    "\n",
    "If you spend some time reading the documentation your life will probably be a little bit easier!\n",
    "\n",
    "## 0) Import any libraries you might need\n",
    "\n",
    "- *Tip: We're going to be downloading things from the internet, so we probably need `requests`.*"
   ]
  },
  {
   "cell_type": "code",
   "execution_count": 1,
   "metadata": {},
   "outputs": [],
   "source": [
    "import requests"
   ]
  },
  {
   "cell_type": "markdown",
   "metadata": {
    "collapsed": true
   },
   "source": [
    "## 1) Make a request from the Dark Sky API for where you were born (or lived, or want to visit!).\n",
    "\n",
    "- *Tip: The URL we used in class was for a place near San Francisco. What was the format of the endpoint that made this happen?*\n",
    "- *Tip: Save the URL as a separate variable, and be sure to not have `[` and `]` inside.*\n",
    "- *Tip: How is north vs. south and east vs. west latitude/longitude represented? Is it the normal North/South/East/West?*\n",
    "- *Tip: You know it's JSON, but Python doesn't! Make sure you aren't trying to deal with plain text.* \n",
    "- *Tip: Once you've imported the JSON into a variable, check the timezone's name to make sure it seems like it got the right part of the world!*"
   ]
  },
  {
   "cell_type": "code",
   "execution_count": 2,
   "metadata": {},
   "outputs": [],
   "source": [
    "from dotenv import load_dotenv\n",
    "load_dotenv()\n",
    "import os\n",
    "\n",
    "API_KEY = os.getenv(\"DARKSKY_API_KEY\")"
   ]
  },
  {
   "cell_type": "code",
   "execution_count": 3,
   "metadata": {},
   "outputs": [],
   "source": [
    "response = requests.get(f'https://api.darksky.net/forecast/{API_KEY}/22.3193,114.1694')\n",
    "hk = response.json()"
   ]
  },
  {
   "cell_type": "markdown",
   "metadata": {},
   "source": [
    "## 2) What's the current wind speed? How much warmer does it feel than it actually is?\n",
    "\n",
    "- *Tip: You can do this by browsing through the dictionaries, but it might be easier to read the documentation*\n",
    "- *Tip: For the second half: it **is** one temperature, and it **feels** a different temperature. Calculate the difference.*"
   ]
  },
  {
   "cell_type": "code",
   "execution_count": 4,
   "metadata": {},
   "outputs": [
    {
     "name": "stdout",
     "output_type": "stream",
     "text": [
      "The current wind speed is 12.86 mph.\n"
     ]
    }
   ],
   "source": [
    "print(f\"The current wind speed is {hk['currently']['windSpeed']} mph.\")"
   ]
  },
  {
   "cell_type": "code",
   "execution_count": 5,
   "metadata": {},
   "outputs": [
    {
     "name": "stdout",
     "output_type": "stream",
     "text": [
      "It feels 1.62 °F warmer than it actually is.\n"
     ]
    }
   ],
   "source": [
    "print(f\"It feels {round(hk['currently']['apparentTemperature'] - hk['currently']['temperature'],2)} °F warmer than it actually is.\")"
   ]
  },
  {
   "cell_type": "markdown",
   "metadata": {},
   "source": [
    "## 3) Today's forecast is the FIRST daily forecast. For the place you decided on above, how much of the moon is currently visible?\n",
    "\n",
    "- *Tip: This does **not** use the `currently` key.*\n",
    "- *Tip: It might be helpful to save the forecast into its own variable*"
   ]
  },
  {
   "cell_type": "code",
   "execution_count": 6,
   "metadata": {},
   "outputs": [],
   "source": [
    "today = hk['daily']['data'][0]\n",
    "moon = today['moonPhase']"
   ]
  },
  {
   "cell_type": "code",
   "execution_count": 7,
   "metadata": {},
   "outputs": [
    {
     "name": "stdout",
     "output_type": "stream",
     "text": [
      "It is a waxing gibbous moon.\n"
     ]
    }
   ],
   "source": [
    "if moon == 0:\n",
    "    print(\"It is a new moon.\")\n",
    "elif moon < 0.25:\n",
    "    print(\"It is a waxing crescent moon.\")\n",
    "elif moon == 0.25:\n",
    "    print(\"It is a first quarter moon.\")\n",
    "elif moon < 0.5:\n",
    "    print(\"It is a waxing gibbous moon.\")\n",
    "elif moon == 0.5:\n",
    "    print(\"It is a full moon.\")\n",
    "elif moon < 0.75:\n",
    "    print(\"It is a waning gibbous moon.\")\n",
    "elif moon == 0.75:\n",
    "    print(\"It is a last quarter moon.\")\n",
    "else:\n",
    "    print(\"It is a waning crescent moon.\")"
   ]
  },
  {
   "cell_type": "markdown",
   "metadata": {},
   "source": [
    "## 4) What's the difference between the high and low temperatures for today?"
   ]
  },
  {
   "cell_type": "code",
   "execution_count": 8,
   "metadata": {},
   "outputs": [
    {
     "name": "stdout",
     "output_type": "stream",
     "text": [
      "3.8299999999999983\n"
     ]
    }
   ],
   "source": [
    "print(today[\"temperatureHigh\"] - today[\"temperatureLow\"])"
   ]
  },
  {
   "cell_type": "markdown",
   "metadata": {},
   "source": [
    "## 5) Go through the daily forecasts, printing out the next week's worth of predictions.\n",
    "\n",
    "I'd like to know the **high temperature** for each day, and whether it's **hot, warm, or cold** (based on what temperatures you think are hot, warm or cold).\n",
    "\n",
    "- *Tip: Is it returning F or C? You can change them by adding `?units=us` or `?units=si` onto the end of the URL.*\n",
    "- *Tip: You'll need to use an `if` statement to say whether it is hot, warm or cold.*"
   ]
  },
  {
   "cell_type": "code",
   "execution_count": 12,
   "metadata": {},
   "outputs": [
    {
     "name": "stdout",
     "output_type": "stream",
     "text": [
      "The high temperture is 79.23 °F and it is warm.\n",
      "The high temperture is 83.11 °F and it is hot.\n",
      "The high temperture is 82.18 °F and it is hot.\n",
      "The high temperture is 82.28 °F and it is hot.\n",
      "The high temperture is 82.02 °F and it is hot.\n",
      "The high temperture is 80.16 °F and it is warm.\n",
      "The high temperture is 79.56 °F and it is warm.\n",
      "The high temperture is 79.49 °F and it is warm.\n"
     ]
    }
   ],
   "source": [
    "for day in hk['daily']['data']:\n",
    "    if day[\"temperatureHigh\"] <= 59:\n",
    "        print(f'The high temperture is {day[\"temperatureHigh\"]} °F and it is cold.')\n",
    "    elif day[\"temperatureHigh\"] >= 82:\n",
    "        print(f'The high temperture is {day[\"temperatureHigh\"]} °F and it is hot.')\n",
    "    else:\n",
    "        print(f'The high temperture is {day[\"temperatureHigh\"]} °F and it is warm.')"
   ]
  },
  {
   "cell_type": "markdown",
   "metadata": {},
   "source": [
    "# 6) What will be the hottest day in the next week? What is the high temperature on that day?\n",
    "\n",
    "It's okay if your result looks like `1453363200`. If you want to be extra-fancy, though, format it as a **real date** - the weird number is called a **UNIX timestamp**, which might help in googling.\n",
    "\n",
    "- *Tip: It's okay to skip this if it seems too difficult!*"
   ]
  },
  {
   "cell_type": "code",
   "execution_count": 10,
   "metadata": {},
   "outputs": [],
   "source": [
    "hottest = 0\n",
    "for day in hk['daily']['data']:\n",
    "    if day[\"temperatureHigh\"] > hottest:\n",
    "        hottest = day[\"temperatureHigh\"]"
   ]
  },
  {
   "cell_type": "code",
   "execution_count": 11,
   "metadata": {},
   "outputs": [
    {
     "name": "stdout",
     "output_type": "stream",
     "text": [
      "2019-06-11 16:00:00 UTC will be the hottest day in the next week and the high temperature on that day is 83.11 °F.\n"
     ]
    }
   ],
   "source": [
    "for day in hk['daily']['data']:\n",
    "    if day[\"temperatureHigh\"] == hottest:\n",
    "        import datetime\n",
    "        print(f'{datetime.datetime.utcfromtimestamp(day[\"time\"])} UTC will be the hottest day in the next week and the high temperature on that day is {hottest} °F.')  "
   ]
  },
  {
   "cell_type": "markdown",
   "metadata": {},
   "source": [
    "## 7) What's the weather looking like for the next 24+ hours in Miami, Florida?\n",
    "\n",
    "I'd like to know the temperature for every hour, and if it's going to have cloud cover of more than 50% say \"{temperature} and cloudy\" instead of just the temperature. \n",
    "\n",
    "\n",
    "- *Tip: Be sure to remember how latitude and longitude are done with positive and negative numbers*\n",
    "- *Tip: How do you represent \"50%\" for cloud cover?*"
   ]
  },
  {
   "cell_type": "code",
   "execution_count": 12,
   "metadata": {},
   "outputs": [],
   "source": [
    "response1 = requests.get(f'https://api.darksky.net/forecast/{API_KEY}/25.7617,-80.1918')\n",
    "miami = response1.json()"
   ]
  },
  {
   "cell_type": "code",
   "execution_count": 13,
   "metadata": {},
   "outputs": [
    {
     "name": "stdout",
     "output_type": "stream",
     "text": [
      "79.46\n",
      "79.98\n",
      "80.24\n",
      "79.59\n",
      "79.24\n",
      "79.5\n",
      "80.27 and cloudy\n",
      "82.09 and cloudy\n",
      "84.72\n",
      "86.76\n",
      "88.16\n",
      "89.16 and cloudy\n",
      "89.77 and cloudy\n",
      "91.42 and cloudy\n",
      "91.39 and cloudy\n",
      "90.41 and cloudy\n",
      "89.11 and cloudy\n",
      "87.76 and cloudy\n",
      "86.29 and cloudy\n",
      "85.09 and cloudy\n",
      "84.28 and cloudy\n",
      "83.72\n",
      "82.9\n",
      "82.23\n"
     ]
    }
   ],
   "source": [
    "hours = miami['hourly']['data']\n",
    "hours24 = [hour for hour in hours if hours[0]['time'] < hour['time'] < hours[25]['time']]\n",
    "for hour in hours24:\n",
    "    if hour['cloudCover'] > 0.5:\n",
    "        print(f\"{hour['temperature']} and cloudy\")\n",
    "    else:\n",
    "        print(hour['temperature'])"
   ]
  },
  {
   "cell_type": "markdown",
   "metadata": {},
   "source": [
    "# 8) For the next 24-ish hours in Miami, what percent of the time is the temperature above 85 degrees?\n",
    "\n",
    "If they give you 48 hours instead of 24, that's okay.\n",
    "\n",
    "- *Tip: You might want to read up on [looping patterns](http://jonathansoma.com/lede/foundations-2017/classes/data%20structures/looping-patterns/)*"
   ]
  },
  {
   "cell_type": "code",
   "execution_count": 14,
   "metadata": {},
   "outputs": [
    {
     "name": "stdout",
     "output_type": "stream",
     "text": [
      "For the next 24 hours in Miama, the temperature is above 85 degrees for 46 percent of the time.\n"
     ]
    }
   ],
   "source": [
    "c_hour = 0\n",
    "for hour in hours24:\n",
    "    if hour['temperature'] > 85:\n",
    "        c_hour = c_hour + 1\n",
    "cloudper = round(c_hour / 24 * 100)\n",
    "print(f\"For the next 24 hours in Miama, the temperature is above 85 degrees for {cloudper} percent of the time.\")"
   ]
  },
  {
   "cell_type": "markdown",
   "metadata": {},
   "source": [
    "## 9) What was the temperature in Central Park on Christmas Day, 2012? How about 2007? 2005? How far back does the API allow you to go?\n",
    "\n",
    "- *Tip: You'll need to use UNIX time, which is the number of seconds since January 1, 1970. Google can help you convert a normal date!*\n",
    "- *Tip: You'll want to use Forecast.io's \"time machine\" API, [documentation here](https://darksky.net/dev/docs/time-machine)*"
   ]
  },
  {
   "cell_type": "code",
   "execution_count": 15,
   "metadata": {},
   "outputs": [
    {
     "name": "stdout",
     "output_type": "stream",
     "text": [
      "The temperature in Central Park on Christmas Day was 27.78 to 40.28 °F in 2012, 29.55 to 42.33 °F in 2007 and 45.66 to 45.73 °F in 2005.\n"
     ]
    }
   ],
   "source": [
    "park12 = requests.get(f'https://api.darksky.net/forecast/{API_KEY}/40.7829,-73.9654,1356436800').json()\n",
    "park07 = requests.get(f'https://api.darksky.net/forecast/{API_KEY}/40.7829,-73.9654,1198584000').json()\n",
    "park05 = requests.get(f'https://api.darksky.net/forecast/{API_KEY}/40.7829,-73.9654,1135512000').json()\n",
    "print(f\"The temperature in Central Park on Christmas Day was {park12['daily']['data'][0]['temperatureLow']} to {park12['daily']['data'][0]['temperatureHigh']} °F in 2012, {park07['daily']['data'][0]['temperatureLow']} to {park07['daily']['data'][0]['temperatureHigh']} °F in 2007 and {park05['daily']['data'][0]['temperatureLow']} to {park05['daily']['data'][0]['temperatureHigh']} °F in 2005.\")"
   ]
  },
  {
   "cell_type": "code",
   "execution_count": 16,
   "metadata": {},
   "outputs": [
    {
     "name": "stdout",
     "output_type": "stream",
     "text": [
      "The earliest date that the API allows users to go to is around 1936-12-31 23:00:01.\n"
     ]
    }
   ],
   "source": [
    "park00 = requests.get(f'https://api.darksky.net/forecast/{API_KEY}/40.7829,-73.9654,-1041364799').json()\n",
    "print(f\"The earliest date that the API allows users to go to is around {datetime.datetime.fromtimestamp(-1041364799)}.\")"
   ]
  }
 ],
 "metadata": {
  "kernelspec": {
   "display_name": "Python 3",
   "language": "python",
   "name": "python3"
  },
  "language_info": {
   "codemirror_mode": {
    "name": "ipython",
    "version": 3
   },
   "file_extension": ".py",
   "mimetype": "text/x-python",
   "name": "python",
   "nbconvert_exporter": "python",
   "pygments_lexer": "ipython3",
   "version": "3.7.1"
  }
 },
 "nbformat": 4,
 "nbformat_minor": 1
}
