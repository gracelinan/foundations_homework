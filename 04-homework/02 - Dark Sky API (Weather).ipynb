{
 "cells": [
  {
   "cell_type": "markdown",
   "metadata": {},
   "source": [
    "# Dark Sky API (Weather)\n",
    "\n",
    "Answer the following questions using the [Dark Sky API](https://darksky.net/dev/). I've added three cells for each question but you're free to use more or less! Hold `Shift` and hit `Enter` to run a cell, and use the `+` on the top left to add a new cell to a notebook.\n",
    "\n",
    "If you spend some time reading the documentation your life will probably be a little bit easier!\n",
    "\n",
    "## 0) Import any libraries you might need\n",
    "\n",
    "- *Tip: We're going to be downloading things from the internet, so we probably need `requests`.*"
   ]
  },
  {
   "cell_type": "code",
   "execution_count": 25,
   "metadata": {},
   "outputs": [],
   "source": [
    "import requests"
   ]
  },
  {
   "cell_type": "code",
   "execution_count": null,
   "metadata": {},
   "outputs": [],
   "source": []
  },
  {
   "cell_type": "markdown",
   "metadata": {
    "collapsed": true
   },
   "source": [
    "## 1) Make a request from the Dark Sky API for where you were born (or lived, or want to visit!).\n",
    "\n",
    "- *Tip: The URL we used in class was for a place near San Francisco. What was the format of the endpoint that made this happen?*\n",
    "- *Tip: Save the URL as a separate variable, and be sure to not have `[` and `]` inside.*\n",
    "- *Tip: How is north vs. south and east vs. west latitude/longitude represented? Is it the normal North/South/East/West?*\n",
    "- *Tip: You know it's JSON, but Python doesn't! Make sure you aren't trying to deal with plain text.* \n",
    "- *Tip: Once you've imported the JSON into a variable, check the timezone's name to make sure it seems like it got the right part of the world!*"
   ]
  },
  {
   "cell_type": "code",
   "execution_count": 26,
   "metadata": {},
   "outputs": [],
   "source": [
    "from dotenv import load_dotenv\n",
    "load_dotenv()\n",
    "import os\n",
    "\n",
    "API_KEY = os.getenv(\"DARKSKY_API_KEY\")"
   ]
  },
  {
   "cell_type": "code",
   "execution_count": 89,
   "metadata": {},
   "outputs": [
    {
     "name": "stdout",
     "output_type": "stream",
     "text": [
      "dict_keys(['latitude', 'longitude', 'timezone', 'currently', 'hourly', 'daily', 'flags', 'offset'])\n"
     ]
    },
    {
     "data": {
      "text/plain": [
       "'Asia/Hong_Kong'"
      ]
     },
     "execution_count": 89,
     "metadata": {},
     "output_type": "execute_result"
    }
   ],
   "source": [
    "response = requests.get(f'https://api.darksky.net/forecast/{API_KEY}/22.3193,114.1694')\n",
    "hk = response.json()\n",
    "print(hk.keys())\n",
    "\n",
    "hk['timezone']"
   ]
  },
  {
   "cell_type": "code",
   "execution_count": 28,
   "metadata": {},
   "outputs": [
    {
     "data": {
      "text/plain": [
       "dict_keys(['time', 'summary', 'icon', 'precipIntensity', 'precipProbability', 'precipType', 'temperature', 'apparentTemperature', 'dewPoint', 'humidity', 'pressure', 'windSpeed', 'windGust', 'windBearing', 'cloudCover', 'uvIndex', 'visibility', 'ozone'])"
      ]
     },
     "execution_count": 28,
     "metadata": {},
     "output_type": "execute_result"
    }
   ],
   "source": [
    "hk['currently']['temperature']\n",
    "hk['currently'].keys()"
   ]
  },
  {
   "cell_type": "markdown",
   "metadata": {},
   "source": [
    "## 2) What's the current wind speed? How much warmer does it feel than it actually is?\n",
    "\n",
    "- *Tip: You can do this by browsing through the dictionaries, but it might be easier to read the documentation*\n",
    "- *Tip: For the second half: it **is** one temperature, and it **feels** a different temperature. Calculate the difference.*"
   ]
  },
  {
   "cell_type": "code",
   "execution_count": 29,
   "metadata": {},
   "outputs": [
    {
     "name": "stdout",
     "output_type": "stream",
     "text": [
      "The current wind speed is 9.21 mph.\n"
     ]
    }
   ],
   "source": [
    "print(f\"The current wind speed is {hk['currently']['windSpeed']} mph.\")"
   ]
  },
  {
   "cell_type": "code",
   "execution_count": 30,
   "metadata": {},
   "outputs": [
    {
     "name": "stdout",
     "output_type": "stream",
     "text": [
      "It feels 4.32 °F warmer than it actually is.\n"
     ]
    }
   ],
   "source": [
    "print(f\"It feels {round(hk['currently']['apparentTemperature'] - hk['currently']['temperature'],2)} °F warmer than it actually is.\")"
   ]
  },
  {
   "cell_type": "code",
   "execution_count": null,
   "metadata": {},
   "outputs": [],
   "source": []
  },
  {
   "cell_type": "markdown",
   "metadata": {},
   "source": [
    "## 3) Today's forecast is the FIRST daily forecast. For the place you decided on above, how much of the moon is currently visible?\n",
    "\n",
    "- *Tip: This does **not** use the `currently` key.*\n",
    "- *Tip: It might be helpful to save the forecast into its own variable*"
   ]
  },
  {
   "cell_type": "code",
   "execution_count": 31,
   "metadata": {},
   "outputs": [
    {
     "data": {
      "text/plain": [
       "0.25"
      ]
     },
     "execution_count": 31,
     "metadata": {},
     "output_type": "execute_result"
    }
   ],
   "source": [
    "today = hk['daily']['data'][0]\n",
    "moon = today['moonPhase']\n",
    "moon"
   ]
  },
  {
   "cell_type": "code",
   "execution_count": 32,
   "metadata": {},
   "outputs": [
    {
     "name": "stdout",
     "output_type": "stream",
     "text": [
      "It is a first quarter moon.\n"
     ]
    }
   ],
   "source": [
    "if moon == 0:\n",
    "    print(\"It is a new moon.\")\n",
    "elif moon < 0.25:\n",
    "    print(\"It is a waxing crescent moon.\")\n",
    "elif moon == 0.25:\n",
    "    print(\"It is a first quarter moon.\")\n",
    "elif moon < 0.5:\n",
    "    print(\"It is a waxing gibbous moon.\")\n",
    "elif moon == 0.5:\n",
    "    print(\"It is a full moon.\")\n",
    "elif moon < 0.75:\n",
    "    print(\"It is a waning gibbous moon.\")\n",
    "elif moon == 0.75:\n",
    "    print(\"It is a last quarter moon.\")\n",
    "else:\n",
    "    print(\"It is a waning crescent moon.\")"
   ]
  },
  {
   "cell_type": "code",
   "execution_count": null,
   "metadata": {},
   "outputs": [],
   "source": []
  },
  {
   "cell_type": "markdown",
   "metadata": {},
   "source": [
    "## 4) What's the difference between the high and low temperatures for today?"
   ]
  },
  {
   "cell_type": "code",
   "execution_count": 33,
   "metadata": {},
   "outputs": [
    {
     "data": {
      "text/plain": [
       "dict_keys(['time', 'summary', 'icon', 'sunriseTime', 'sunsetTime', 'moonPhase', 'precipIntensity', 'precipIntensityMax', 'precipIntensityMaxTime', 'precipProbability', 'precipType', 'temperatureHigh', 'temperatureHighTime', 'temperatureLow', 'temperatureLowTime', 'apparentTemperatureHigh', 'apparentTemperatureHighTime', 'apparentTemperatureLow', 'apparentTemperatureLowTime', 'dewPoint', 'humidity', 'pressure', 'windSpeed', 'windGust', 'windGustTime', 'windBearing', 'cloudCover', 'uvIndex', 'uvIndexTime', 'visibility', 'ozone', 'temperatureMin', 'temperatureMinTime', 'temperatureMax', 'temperatureMaxTime', 'apparentTemperatureMin', 'apparentTemperatureMinTime', 'apparentTemperatureMax', 'apparentTemperatureMaxTime'])"
      ]
     },
     "execution_count": 33,
     "metadata": {},
     "output_type": "execute_result"
    }
   ],
   "source": [
    "hk['daily']['data'][0].keys()"
   ]
  },
  {
   "cell_type": "code",
   "execution_count": 34,
   "metadata": {},
   "outputs": [
    {
     "name": "stdout",
     "output_type": "stream",
     "text": [
      "4.469999999999999\n"
     ]
    }
   ],
   "source": [
    "print(today[\"temperatureHigh\"] - today[\"temperatureLow\"])"
   ]
  },
  {
   "cell_type": "code",
   "execution_count": null,
   "metadata": {},
   "outputs": [],
   "source": []
  },
  {
   "cell_type": "markdown",
   "metadata": {},
   "source": [
    "## 5) Go through the daily forecasts, printing out the next week's worth of predictions.\n",
    "\n",
    "I'd like to know the **high temperature** for each day, and whether it's **hot, warm, or cold** (based on what temperatures you think are hot, warm or cold).\n",
    "\n",
    "- *Tip: Is it returning F or C? You can change them by adding `?units=us` or `?units=si` onto the end of the URL.*\n",
    "- *Tip: You'll need to use an `if` statement to say whether it is hot, warm or cold.*"
   ]
  },
  {
   "cell_type": "code",
   "execution_count": 35,
   "metadata": {},
   "outputs": [
    {
     "name": "stdout",
     "output_type": "stream",
     "text": [
      "The high temperture is 80.45 and it is warm.\n",
      "The high temperture is 80.26 and it is warm.\n",
      "The high temperture is 81.25 and it is warm.\n",
      "The high temperture is 80.28 and it is warm.\n",
      "The high temperture is 81.32 and it is warm.\n",
      "The high temperture is 79.89 and it is warm.\n",
      "The high temperture is 79 and it is warm.\n",
      "The high temperture is 77.77 and it is warm.\n"
     ]
    }
   ],
   "source": [
    "for day in hk['daily']['data']:\n",
    "    if day[\"temperatureHigh\"] <= 59:\n",
    "        print(f'The high temperture is {day[\"temperatureHigh\"]} and it is cold.')\n",
    "    elif day[\"temperatureHigh\"] >= 82:\n",
    "        print(f'The high temperture is {day[\"temperatureHigh\"]} and it is hot.')\n",
    "    else:\n",
    "        print(f'The high temperture is {day[\"temperatureHigh\"]} and it is warm.')"
   ]
  },
  {
   "cell_type": "code",
   "execution_count": 36,
   "metadata": {},
   "outputs": [
    {
     "data": {
      "text/plain": [
       "[{'time': 1560096000,\n",
       "  'summary': 'Light rain in the afternoon.',\n",
       "  'icon': 'rain',\n",
       "  'sunriseTime': 1560116402,\n",
       "  'sunsetTime': 1560164893,\n",
       "  'moonPhase': 0.25,\n",
       "  'precipIntensity': 0.0074,\n",
       "  'precipIntensityMax': 0.0377,\n",
       "  'precipIntensityMaxTime': 1560146400,\n",
       "  'precipProbability': 0.89,\n",
       "  'precipType': 'rain',\n",
       "  'temperatureHigh': 80.45,\n",
       "  'temperatureHighTime': 1560153600,\n",
       "  'temperatureLow': 75.98,\n",
       "  'temperatureLowTime': 1560193200,\n",
       "  'apparentTemperatureHigh': 88.76,\n",
       "  'apparentTemperatureHighTime': 1560157200,\n",
       "  'apparentTemperatureLow': 77.98,\n",
       "  'apparentTemperatureLowTime': 1560193200,\n",
       "  'dewPoint': 77.75,\n",
       "  'humidity': 0.96,\n",
       "  'pressure': 1003.84,\n",
       "  'windSpeed': 10.76,\n",
       "  'windGust': 17.98,\n",
       "  'windGustTime': 1560132000,\n",
       "  'windBearing': 219,\n",
       "  'cloudCover': 0.88,\n",
       "  'uvIndex': 5,\n",
       "  'uvIndexTime': 1560135600,\n",
       "  'visibility': 8.43,\n",
       "  'ozone': 274.52,\n",
       "  'temperatureMin': 76.4,\n",
       "  'temperatureMinTime': 1560117600,\n",
       "  'temperatureMax': 80.45,\n",
       "  'temperatureMaxTime': 1560153600,\n",
       "  'apparentTemperatureMin': 78.44,\n",
       "  'apparentTemperatureMinTime': 1560117600,\n",
       "  'apparentTemperatureMax': 88.76,\n",
       "  'apparentTemperatureMaxTime': 1560157200},\n",
       " {'time': 1560182400,\n",
       "  'summary': 'Rain starting in the afternoon.',\n",
       "  'icon': 'rain',\n",
       "  'sunriseTime': 1560202805,\n",
       "  'sunsetTime': 1560251313,\n",
       "  'moonPhase': 0.29,\n",
       "  'precipIntensity': 0.0173,\n",
       "  'precipIntensityMax': 0.0626,\n",
       "  'precipIntensityMaxTime': 1560243600,\n",
       "  'precipProbability': 0.96,\n",
       "  'precipType': 'rain',\n",
       "  'temperatureHigh': 80.26,\n",
       "  'temperatureHighTime': 1560222000,\n",
       "  'temperatureLow': 76.27,\n",
       "  'temperatureLowTime': 1560276000,\n",
       "  'apparentTemperatureHigh': 88.25,\n",
       "  'apparentTemperatureHighTime': 1560222000,\n",
       "  'apparentTemperatureLow': 78.3,\n",
       "  'apparentTemperatureLowTime': 1560276000,\n",
       "  'dewPoint': 77.51,\n",
       "  'humidity': 0.98,\n",
       "  'pressure': 1004.42,\n",
       "  'windSpeed': 7.83,\n",
       "  'windGust': 14.81,\n",
       "  'windGustTime': 1560193200,\n",
       "  'windBearing': 211,\n",
       "  'cloudCover': 1,\n",
       "  'uvIndex': 5,\n",
       "  'uvIndexTime': 1560222000,\n",
       "  'visibility': 8.03,\n",
       "  'ozone': 271.41,\n",
       "  'temperatureMin': 75.98,\n",
       "  'temperatureMinTime': 1560193200,\n",
       "  'temperatureMax': 80.26,\n",
       "  'temperatureMaxTime': 1560222000,\n",
       "  'apparentTemperatureMin': 77.98,\n",
       "  'apparentTemperatureMinTime': 1560193200,\n",
       "  'apparentTemperatureMax': 88.25,\n",
       "  'apparentTemperatureMaxTime': 1560222000},\n",
       " {'time': 1560268800,\n",
       "  'summary': 'Humid and overcast throughout the day.',\n",
       "  'icon': 'cloudy',\n",
       "  'sunriseTime': 1560289208,\n",
       "  'sunsetTime': 1560337733,\n",
       "  'moonPhase': 0.32,\n",
       "  'precipIntensity': 0.0137,\n",
       "  'precipIntensityMax': 0.0459,\n",
       "  'precipIntensityMaxTime': 1560319200,\n",
       "  'precipProbability': 0.95,\n",
       "  'precipType': 'rain',\n",
       "  'temperatureHigh': 81.25,\n",
       "  'temperatureHighTime': 1560308400,\n",
       "  'temperatureLow': 76.36,\n",
       "  'temperatureLowTime': 1560362400,\n",
       "  'apparentTemperatureHigh': 90.41,\n",
       "  'apparentTemperatureHighTime': 1560308400,\n",
       "  'apparentTemperatureLow': 78.39,\n",
       "  'apparentTemperatureLowTime': 1560362400,\n",
       "  'dewPoint': 77.73,\n",
       "  'humidity': 0.97,\n",
       "  'pressure': 1004.83,\n",
       "  'windSpeed': 5.09,\n",
       "  'windGust': 8.71,\n",
       "  'windGustTime': 1560276000,\n",
       "  'windBearing': 195,\n",
       "  'cloudCover': 1,\n",
       "  'uvIndex': 5,\n",
       "  'uvIndexTime': 1560304800,\n",
       "  'visibility': 8.49,\n",
       "  'ozone': 268.34,\n",
       "  'temperatureMin': 76.27,\n",
       "  'temperatureMinTime': 1560276000,\n",
       "  'temperatureMax': 81.25,\n",
       "  'temperatureMaxTime': 1560308400,\n",
       "  'apparentTemperatureMin': 78.3,\n",
       "  'apparentTemperatureMinTime': 1560276000,\n",
       "  'apparentTemperatureMax': 90.41,\n",
       "  'apparentTemperatureMaxTime': 1560308400},\n",
       " {'time': 1560355200,\n",
       "  'summary': 'Light rain overnight.',\n",
       "  'icon': 'rain',\n",
       "  'sunriseTime': 1560375612,\n",
       "  'sunsetTime': 1560424152,\n",
       "  'moonPhase': 0.36,\n",
       "  'precipIntensity': 0.0167,\n",
       "  'precipIntensityMax': 0.046,\n",
       "  'precipIntensityMaxTime': 1560438000,\n",
       "  'precipProbability': 0.96,\n",
       "  'precipType': 'rain',\n",
       "  'temperatureHigh': 80.28,\n",
       "  'temperatureHighTime': 1560394800,\n",
       "  'temperatureLow': 74.16,\n",
       "  'temperatureLowTime': 1560448800,\n",
       "  'apparentTemperatureHigh': 87.87,\n",
       "  'apparentTemperatureHighTime': 1560394800,\n",
       "  'apparentTemperatureLow': 75.98,\n",
       "  'apparentTemperatureLowTime': 1560448800,\n",
       "  'dewPoint': 77.24,\n",
       "  'humidity': 0.97,\n",
       "  'pressure': 1003.67,\n",
       "  'windSpeed': 5.36,\n",
       "  'windGust': 17.6,\n",
       "  'windGustTime': 1560394800,\n",
       "  'windBearing': 224,\n",
       "  'cloudCover': 1,\n",
       "  'uvIndex': 5,\n",
       "  'uvIndexTime': 1560391200,\n",
       "  'visibility': 7.65,\n",
       "  'ozone': 267.45,\n",
       "  'temperatureMin': 75.91,\n",
       "  'temperatureMinTime': 1560438000,\n",
       "  'temperatureMax': 80.28,\n",
       "  'temperatureMaxTime': 1560394800,\n",
       "  'apparentTemperatureMin': 77.9,\n",
       "  'apparentTemperatureMinTime': 1560438000,\n",
       "  'apparentTemperatureMax': 87.87,\n",
       "  'apparentTemperatureMaxTime': 1560394800},\n",
       " {'time': 1560441600,\n",
       "  'summary': 'Light rain in the morning.',\n",
       "  'icon': 'rain',\n",
       "  'sunriseTime': 1560462018,\n",
       "  'sunsetTime': 1560510571,\n",
       "  'moonPhase': 0.39,\n",
       "  'precipIntensity': 0.0159,\n",
       "  'precipIntensityMax': 0.0393,\n",
       "  'precipIntensityMaxTime': 1560459600,\n",
       "  'precipProbability': 0.97,\n",
       "  'precipType': 'rain',\n",
       "  'temperatureHigh': 81.32,\n",
       "  'temperatureHighTime': 1560492000,\n",
       "  'temperatureLow': 75.37,\n",
       "  'temperatureLowTime': 1560531600,\n",
       "  'apparentTemperatureHigh': 87.75,\n",
       "  'apparentTemperatureHighTime': 1560492000,\n",
       "  'apparentTemperatureLow': 77.31,\n",
       "  'apparentTemperatureLowTime': 1560531600,\n",
       "  'dewPoint': 75.64,\n",
       "  'humidity': 0.95,\n",
       "  'pressure': 1004.03,\n",
       "  'windSpeed': 3.42,\n",
       "  'windGust': 13.05,\n",
       "  'windGustTime': 1560488400,\n",
       "  'windBearing': 154,\n",
       "  'cloudCover': 1,\n",
       "  'uvIndex': 5,\n",
       "  'uvIndexTime': 1560481200,\n",
       "  'visibility': 9.75,\n",
       "  'ozone': 277.25,\n",
       "  'temperatureMin': 74.16,\n",
       "  'temperatureMinTime': 1560448800,\n",
       "  'temperatureMax': 81.32,\n",
       "  'temperatureMaxTime': 1560492000,\n",
       "  'apparentTemperatureMin': 75.98,\n",
       "  'apparentTemperatureMinTime': 1560448800,\n",
       "  'apparentTemperatureMax': 87.75,\n",
       "  'apparentTemperatureMaxTime': 1560492000},\n",
       " {'time': 1560528000,\n",
       "  'summary': 'Rain until afternoon, starting again in the evening.',\n",
       "  'icon': 'rain',\n",
       "  'sunriseTime': 1560548424,\n",
       "  'sunsetTime': 1560596989,\n",
       "  'moonPhase': 0.43,\n",
       "  'precipIntensity': 0.0553,\n",
       "  'precipIntensityMax': 0.2007,\n",
       "  'precipIntensityMaxTime': 1560600000,\n",
       "  'precipProbability': 0.98,\n",
       "  'precipType': 'rain',\n",
       "  'temperatureHigh': 79.89,\n",
       "  'temperatureHighTime': 1560585600,\n",
       "  'temperatureLow': 74.84,\n",
       "  'temperatureLowTime': 1560632400,\n",
       "  'apparentTemperatureHigh': 85.63,\n",
       "  'apparentTemperatureHighTime': 1560585600,\n",
       "  'apparentTemperatureLow': 76.73,\n",
       "  'apparentTemperatureLowTime': 1560632400,\n",
       "  'dewPoint': 76.36,\n",
       "  'humidity': 0.98,\n",
       "  'pressure': 1003.93,\n",
       "  'windSpeed': 6.2,\n",
       "  'windGust': 9.53,\n",
       "  'windGustTime': 1560610800,\n",
       "  'windBearing': 140,\n",
       "  'cloudCover': 0.99,\n",
       "  'uvIndex': 5,\n",
       "  'uvIndexTime': 1560567600,\n",
       "  'visibility': 7.76,\n",
       "  'ozone': 273.32,\n",
       "  'temperatureMin': 75.15,\n",
       "  'temperatureMinTime': 1560607200,\n",
       "  'temperatureMax': 79.89,\n",
       "  'temperatureMaxTime': 1560585600,\n",
       "  'apparentTemperatureMin': 77.07,\n",
       "  'apparentTemperatureMinTime': 1560607200,\n",
       "  'apparentTemperatureMax': 85.63,\n",
       "  'apparentTemperatureMaxTime': 1560585600},\n",
       " {'time': 1560614400,\n",
       "  'summary': 'Rain in the morning and afternoon.',\n",
       "  'icon': 'rain',\n",
       "  'sunriseTime': 1560634831,\n",
       "  'sunsetTime': 1560683406,\n",
       "  'moonPhase': 0.46,\n",
       "  'precipIntensity': 0.021,\n",
       "  'precipIntensityMax': 0.0846,\n",
       "  'precipIntensityMaxTime': 1560632400,\n",
       "  'precipProbability': 0.96,\n",
       "  'precipType': 'rain',\n",
       "  'temperatureHigh': 79,\n",
       "  'temperatureHighTime': 1560654000,\n",
       "  'temperatureLow': 73.21,\n",
       "  'temperatureLowTime': 1560718800,\n",
       "  'apparentTemperatureHigh': 83.3,\n",
       "  'apparentTemperatureHighTime': 1560654000,\n",
       "  'apparentTemperatureLow': 74.93,\n",
       "  'apparentTemperatureLowTime': 1560718800,\n",
       "  'dewPoint': 76.33,\n",
       "  'humidity': 0.98,\n",
       "  'pressure': 1004.1,\n",
       "  'windSpeed': 7.26,\n",
       "  'windGust': 16.68,\n",
       "  'windGustTime': 1560654000,\n",
       "  'windBearing': 158,\n",
       "  'cloudCover': 0.89,\n",
       "  'uvIndex': 6,\n",
       "  'uvIndexTime': 1560654000,\n",
       "  'visibility': 9.16,\n",
       "  'ozone': 270.15,\n",
       "  'temperatureMin': 74.84,\n",
       "  'temperatureMinTime': 1560632400,\n",
       "  'temperatureMax': 79,\n",
       "  'temperatureMaxTime': 1560654000,\n",
       "  'apparentTemperatureMin': 76.73,\n",
       "  'apparentTemperatureMinTime': 1560632400,\n",
       "  'apparentTemperatureMax': 83.3,\n",
       "  'apparentTemperatureMaxTime': 1560654000},\n",
       " {'time': 1560700800,\n",
       "  'summary': 'Rain in the morning.',\n",
       "  'icon': 'rain',\n",
       "  'sunriseTime': 1560721239,\n",
       "  'sunsetTime': 1560769822,\n",
       "  'moonPhase': 0.49,\n",
       "  'precipIntensity': 0.0273,\n",
       "  'precipIntensityMax': 0.0983,\n",
       "  'precipIntensityMaxTime': 1560718800,\n",
       "  'precipProbability': 0.97,\n",
       "  'precipType': 'rain',\n",
       "  'temperatureHigh': 77.77,\n",
       "  'temperatureHighTime': 1560762000,\n",
       "  'temperatureLow': 75.03,\n",
       "  'temperatureLowTime': 1560798000,\n",
       "  'apparentTemperatureHigh': 79.77,\n",
       "  'apparentTemperatureHighTime': 1560762000,\n",
       "  'apparentTemperatureLow': 76.93,\n",
       "  'apparentTemperatureLowTime': 1560798000,\n",
       "  'dewPoint': 75.31,\n",
       "  'humidity': 1,\n",
       "  'pressure': 1004.28,\n",
       "  'windSpeed': 10.25,\n",
       "  'windGust': 25.83,\n",
       "  'windGustTime': 1560744000,\n",
       "  'windBearing': 153,\n",
       "  'cloudCover': 0.96,\n",
       "  'uvIndex': 5,\n",
       "  'uvIndexTime': 1560736800,\n",
       "  'visibility': 8.81,\n",
       "  'ozone': 267.59,\n",
       "  'temperatureMin': 73.21,\n",
       "  'temperatureMinTime': 1560718800,\n",
       "  'temperatureMax': 77.77,\n",
       "  'temperatureMaxTime': 1560762000,\n",
       "  'apparentTemperatureMin': 74.93,\n",
       "  'apparentTemperatureMinTime': 1560718800,\n",
       "  'apparentTemperatureMax': 79.77,\n",
       "  'apparentTemperatureMaxTime': 1560762000}]"
      ]
     },
     "execution_count": 36,
     "metadata": {},
     "output_type": "execute_result"
    }
   ],
   "source": [
    "hk['daily']['data']"
   ]
  },
  {
   "cell_type": "code",
   "execution_count": null,
   "metadata": {},
   "outputs": [],
   "source": []
  },
  {
   "cell_type": "markdown",
   "metadata": {},
   "source": [
    "# 6) What will be the hottest day in the next week? What is the high temperature on that day?\n",
    "\n",
    "It's okay if your result looks like `1453363200`. If you want to be extra-fancy, though, format it as a **real date** - the weird number is called a **UNIX timestamp**, which might help in googling.\n",
    "\n",
    "- *Tip: It's okay to skip this if it seems too difficult!*"
   ]
  },
  {
   "cell_type": "code",
   "execution_count": 81,
   "metadata": {},
   "outputs": [],
   "source": [
    "hottest = 0\n",
    "for day in hk['daily']['data']:\n",
    "    if day[\"temperatureHigh\"] > hottest:\n",
    "        hottest = day[\"temperatureHigh\"]"
   ]
  },
  {
   "cell_type": "code",
   "execution_count": 82,
   "metadata": {},
   "outputs": [
    {
     "name": "stdout",
     "output_type": "stream",
     "text": [
      "2019-06-13 16:00:00 UTC will be the hottest day in the next week and the high temperature on that day is 81.32.\n"
     ]
    }
   ],
   "source": [
    "for day in hk['daily']['data']:\n",
    "    if day[\"temperatureHigh\"] == hottest:\n",
    "        import datetime\n",
    "        print(f'{datetime.datetime.utcfromtimestamp(day[\"time\"])} UTC will be the hottest day in the next week and the high temperature on that day is {hottest}.')  "
   ]
  },
  {
   "cell_type": "code",
   "execution_count": null,
   "metadata": {},
   "outputs": [],
   "source": [
    "\n"
   ]
  },
  {
   "cell_type": "markdown",
   "metadata": {},
   "source": [
    "## 7) What's the weather looking like for the next 24+ hours in Miami, Florida?\n",
    "\n",
    "I'd like to know the temperature for every hour, and if it's going to have cloud cover of more than 50% say \"{temperature} and cloudy\" instead of just the temperature. \n",
    "\n",
    "\n",
    "- *Tip: Be sure to remember how latitude and longitude are done with positive and negative numbers*\n",
    "- *Tip: How do you represent \"50%\" for cloud cover?*"
   ]
  },
  {
   "cell_type": "code",
   "execution_count": 95,
   "metadata": {},
   "outputs": [],
   "source": [
    "response1 = requests.get(f'https://api.darksky.net/forecast/{API_KEY}/25.7617,-80.1918')\n",
    "miami = response1.json()"
   ]
  },
  {
   "cell_type": "code",
   "execution_count": 129,
   "metadata": {},
   "outputs": [
    {
     "name": "stdout",
     "output_type": "stream",
     "text": [
      "80.64 and cloudy\n",
      "82.48 and cloudy\n",
      "83.83 and cloudy\n",
      "83.2 and cloudy\n",
      "82.65 and cloudy\n",
      "82.1\n",
      "81.7\n",
      "81.43 and cloudy\n",
      "81.09 and cloudy\n",
      "80.93\n",
      "80.98 and cloudy\n",
      "80.97 and cloudy\n",
      "81.05 and cloudy\n",
      "81.36 and cloudy\n",
      "82.43 and cloudy\n",
      "83.67 and cloudy\n",
      "85.54 and cloudy\n",
      "87.2 and cloudy\n",
      "88.73 and cloudy\n",
      "89.58 and cloudy\n",
      "90.6 and cloudy\n",
      "91.17 and cloudy\n",
      "91.57 and cloudy\n",
      "90.8 and cloudy\n"
     ]
    }
   ],
   "source": [
    "hours = miami['hourly']['data']\n",
    "hours24 = [hour for hour in hours if hours[0]['time'] < hour['time'] < hours[25]['time']]\n",
    "for hour in hours24:\n",
    "    if hour['cloudCover'] > 0.5:\n",
    "        print(f\"{hour['temperature']} and cloudy\")\n",
    "    else:\n",
    "        print(hour['temperature'])"
   ]
  },
  {
   "cell_type": "code",
   "execution_count": null,
   "metadata": {},
   "outputs": [],
   "source": []
  },
  {
   "cell_type": "markdown",
   "metadata": {},
   "source": [
    "# 8) For the next 24-ish hours in Miami, what percent of the time is the temperature above 85 degrees?\n",
    "\n",
    "If they give you 48 hours instead of 24, that's okay.\n",
    "\n",
    "- *Tip: You might want to read up on [looping patterns](http://jonathansoma.com/lede/foundations-2017/classes/data%20structures/looping-patterns/)*"
   ]
  },
  {
   "cell_type": "code",
   "execution_count": 133,
   "metadata": {},
   "outputs": [
    {
     "name": "stdout",
     "output_type": "stream",
     "text": [
      "For the next 24 hours in Miama, the temperature is above 85 degrees for 33 percent of the time.\n"
     ]
    }
   ],
   "source": [
    "c_hour = 0\n",
    "for hour in hours24:\n",
    "    if hour['temperature'] > 85:\n",
    "        c_hour = c_hour + 1\n",
    "print(f\"For the next 24 hours in Miama, the temperature is above 85 degrees for {round(c_hour / 24 * 100)} percent of the time.\")"
   ]
  },
  {
   "cell_type": "code",
   "execution_count": null,
   "metadata": {},
   "outputs": [],
   "source": []
  },
  {
   "cell_type": "code",
   "execution_count": null,
   "metadata": {},
   "outputs": [],
   "source": []
  },
  {
   "cell_type": "markdown",
   "metadata": {},
   "source": [
    "## 9) What was the temperature in Central Park on Christmas Day, 2012? How about 2007? 2005? How far back does the API allow you to go?\n",
    "\n",
    "- *Tip: You'll need to use UNIX time, which is the number of seconds since January 1, 1970. Google can help you convert a normal date!*\n",
    "- *Tip: You'll want to use Forecast.io's \"time machine\" API, [documentation here](https://darksky.net/dev/docs/time-machine)*"
   ]
  },
  {
   "cell_type": "code",
   "execution_count": 171,
   "metadata": {},
   "outputs": [
    {
     "name": "stdout",
     "output_type": "stream",
     "text": [
      "The temperature in Central Park on Christmas Day was 27.78 to 40.28 °F in 2012, 29.55 to 42.33 °F in 2007 and 45.66 to 45.73 °F in 2005.\n"
     ]
    }
   ],
   "source": [
    "park12 = requests.get(f'https://api.darksky.net/forecast/{API_KEY}/40.7829,-73.9654,1356436800').json()\n",
    "park07 = requests.get(f'https://api.darksky.net/forecast/{API_KEY}/40.7829,-73.9654,1198584000').json()\n",
    "park05 = requests.get(f'https://api.darksky.net/forecast/{API_KEY}/40.7829,-73.9654,1135512000').json()\n",
    "print(f\"The temperature in Central Park on Christmas Day was {park12['daily']['data'][0]['temperatureLow']} to {park12['daily']['data'][0]['temperatureHigh']} °F in 2012, {park07['daily']['data'][0]['temperatureLow']} to {park07['daily']['data'][0]['temperatureHigh']} °F in 2007 and {park05['daily']['data'][0]['temperatureLow']} to {park05['daily']['data'][0]['temperatureHigh']} °F in 2005.\")"
   ]
  },
  {
   "cell_type": "code",
   "execution_count": 228,
   "metadata": {},
   "outputs": [
    {
     "data": {
      "text/plain": [
       "{'latitude': 40.7829,\n",
       " 'longitude': -73.9654,\n",
       " 'timezone': 'America/New_York',\n",
       " 'currently': {'time': -1000000000,\n",
       "  'summary': 'Breezy',\n",
       "  'icon': 'wind',\n",
       "  'precipType': 'rain',\n",
       "  'temperature': 53.23,\n",
       "  'apparentTemperature': 53.23,\n",
       "  'dewPoint': 43.59,\n",
       "  'humidity': 0.7,\n",
       "  'pressure': 1027.39,\n",
       "  'windSpeed': 17.84,\n",
       "  'windBearing': 127},\n",
       " 'hourly': {'summary': 'Breezy starting in the afternoon, continuing until evening.',\n",
       "  'icon': 'wind',\n",
       "  'data': [{'time': -1000062000,\n",
       "    'summary': 'Clear',\n",
       "    'icon': 'clear-night',\n",
       "    'precipType': 'rain',\n",
       "    'temperature': 41.4,\n",
       "    'apparentTemperature': 36.27,\n",
       "    'dewPoint': 39.39,\n",
       "    'humidity': 0.92,\n",
       "    'pressure': 1026.09,\n",
       "    'windSpeed': 8.05,\n",
       "    'windBearing': 90,\n",
       "    'uvIndex': 0},\n",
       "   {'time': -1000058400,\n",
       "    'summary': 'Clear',\n",
       "    'icon': 'clear-night',\n",
       "    'precipType': 'rain',\n",
       "    'temperature': 41.4,\n",
       "    'apparentTemperature': 36.27,\n",
       "    'dewPoint': 39.39,\n",
       "    'humidity': 0.92,\n",
       "    'pressure': 1026.09,\n",
       "    'windSpeed': 8.05,\n",
       "    'windBearing': 90,\n",
       "    'uvIndex': 0},\n",
       "   {'time': -1000054800,\n",
       "    'summary': 'Clear',\n",
       "    'icon': 'clear-night',\n",
       "    'precipType': 'rain',\n",
       "    'temperature': 41.4,\n",
       "    'apparentTemperature': 36.27,\n",
       "    'dewPoint': 38.28,\n",
       "    'humidity': 0.89,\n",
       "    'pressure': 1026.09,\n",
       "    'windSpeed': 8.05,\n",
       "    'windBearing': 90,\n",
       "    'uvIndex': 0},\n",
       "   {'time': -1000051200,\n",
       "    'summary': 'Clear',\n",
       "    'icon': 'clear-night',\n",
       "    'precipType': 'rain',\n",
       "    'temperature': 39.44,\n",
       "    'apparentTemperature': 33.88,\n",
       "    'dewPoint': 34.34,\n",
       "    'humidity': 0.82,\n",
       "    'pressure': 1026.79,\n",
       "    'windSpeed': 8.05,\n",
       "    'windBearing': 45,\n",
       "    'uvIndex': 0},\n",
       "   {'time': -1000047600,\n",
       "    'summary': 'Clear',\n",
       "    'icon': 'clear-night',\n",
       "    'precipType': 'rain',\n",
       "    'temperature': 39.44,\n",
       "    'apparentTemperature': 37.32,\n",
       "    'dewPoint': 34.34,\n",
       "    'humidity': 0.82,\n",
       "    'pressure': 1027.09,\n",
       "    'windSpeed': 3.36,\n",
       "    'windBearing': 45,\n",
       "    'uvIndex': 0},\n",
       "   {'time': -1000044000,\n",
       "    'summary': 'Clear',\n",
       "    'icon': 'clear-night',\n",
       "    'precipType': 'rain',\n",
       "    'temperature': 39.44,\n",
       "    'apparentTemperature': 33.88,\n",
       "    'dewPoint': 34.34,\n",
       "    'humidity': 0.82,\n",
       "    'pressure': 1027.8,\n",
       "    'windSpeed': 8.05,\n",
       "    'windBearing': 0,\n",
       "    'uvIndex': 0},\n",
       "   {'time': -1000040400,\n",
       "    'summary': 'Clear',\n",
       "    'icon': 'clear-day',\n",
       "    'precipType': 'rain',\n",
       "    'temperature': 38.33,\n",
       "    'apparentTemperature': 32.53,\n",
       "    'dewPoint': 33.43,\n",
       "    'humidity': 0.82,\n",
       "    'pressure': 1027.8,\n",
       "    'windSpeed': 8.05,\n",
       "    'windBearing': 0},\n",
       "   {'time': -1000036800,\n",
       "    'summary': 'Clear',\n",
       "    'icon': 'clear-day',\n",
       "    'precipType': 'rain',\n",
       "    'temperature': 48.44,\n",
       "    'apparentTemperature': 43.65,\n",
       "    'dewPoint': 40.29,\n",
       "    'humidity': 0.73,\n",
       "    'pressure': 1027.8,\n",
       "    'windSpeed': 11.39,\n",
       "    'windBearing': 23},\n",
       "   {'time': -1000033200,\n",
       "    'summary': 'Clear',\n",
       "    'icon': 'clear-day',\n",
       "    'precipType': 'rain',\n",
       "    'temperature': 52.4,\n",
       "    'apparentTemperature': 52.4,\n",
       "    'dewPoint': 41.35,\n",
       "    'humidity': 0.66,\n",
       "    'pressure': 1028.11,\n",
       "    'windSpeed': 11.39,\n",
       "    'windBearing': 45},\n",
       "   {'time': -1000029600,\n",
       "    'summary': 'Clear',\n",
       "    'icon': 'clear-day',\n",
       "    'precipType': 'rain',\n",
       "    'temperature': 55.46,\n",
       "    'apparentTemperature': 55.46,\n",
       "    'dewPoint': 43.33,\n",
       "    'humidity': 0.64,\n",
       "    'pressure': 1028.11,\n",
       "    'windSpeed': 11.39,\n",
       "    'windBearing': 23},\n",
       "   {'time': -1000026000,\n",
       "    'summary': 'Clear',\n",
       "    'icon': 'clear-day',\n",
       "    'precipType': 'rain',\n",
       "    'temperature': 55.46,\n",
       "    'apparentTemperature': 55.46,\n",
       "    'dewPoint': 43.33,\n",
       "    'humidity': 0.64,\n",
       "    'pressure': 1028.11,\n",
       "    'windSpeed': 11.39,\n",
       "    'windBearing': 45},\n",
       "   {'time': -1000022400,\n",
       "    'summary': 'Clear',\n",
       "    'icon': 'clear-day',\n",
       "    'precipType': 'rain',\n",
       "    'temperature': 58.33,\n",
       "    'apparentTemperature': 58.33,\n",
       "    'dewPoint': 45.33,\n",
       "    'humidity': 0.62,\n",
       "    'pressure': 1027.39,\n",
       "    'windSpeed': 11.39,\n",
       "    'windBearing': 45},\n",
       "   {'time': -1000018800,\n",
       "    'summary': 'Clear',\n",
       "    'icon': 'clear-day',\n",
       "    'precipType': 'rain',\n",
       "    'temperature': 59.41,\n",
       "    'apparentTemperature': 59.41,\n",
       "    'dewPoint': 46.41,\n",
       "    'humidity': 0.62,\n",
       "    'pressure': 1026.79,\n",
       "    'windSpeed': 16.1,\n",
       "    'windBearing': 113},\n",
       "   {'time': -1000015200,\n",
       "    'summary': 'Breezy',\n",
       "    'icon': 'wind',\n",
       "    'precipType': 'rain',\n",
       "    'temperature': 59.41,\n",
       "    'apparentTemperature': 59.41,\n",
       "    'dewPoint': 46.41,\n",
       "    'humidity': 0.62,\n",
       "    'pressure': 1026.39,\n",
       "    'windSpeed': 18.36,\n",
       "    'windBearing': 135},\n",
       "   {'time': -1000011600,\n",
       "    'summary': 'Breezy',\n",
       "    'icon': 'wind',\n",
       "    'precipType': 'rain',\n",
       "    'temperature': 59.41,\n",
       "    'apparentTemperature': 59.41,\n",
       "    'dewPoint': 45.33,\n",
       "    'humidity': 0.6,\n",
       "    'pressure': 1026.09,\n",
       "    'windSpeed': 24.17,\n",
       "    'windBearing': 135},\n",
       "   {'time': -1000008000,\n",
       "    'summary': 'Breezy',\n",
       "    'icon': 'wind',\n",
       "    'precipType': 'rain',\n",
       "    'temperature': 57.43,\n",
       "    'apparentTemperature': 57.43,\n",
       "    'dewPoint': 43.33,\n",
       "    'humidity': 0.59,\n",
       "    'pressure': 1026.09,\n",
       "    'windSpeed': 24.17,\n",
       "    'windBearing': 135},\n",
       "   {'time': -1000004400,\n",
       "    'summary': 'Breezy',\n",
       "    'icon': 'wind',\n",
       "    'precipType': 'rain',\n",
       "    'temperature': 55.46,\n",
       "    'apparentTemperature': 55.46,\n",
       "    'dewPoint': 43.33,\n",
       "    'humidity': 0.64,\n",
       "    'pressure': 1027.09,\n",
       "    'windSpeed': 24.17,\n",
       "    'windBearing': 135},\n",
       "   {'time': -1000000800,\n",
       "    'summary': 'Breezy',\n",
       "    'icon': 'wind',\n",
       "    'precipType': 'rain',\n",
       "    'temperature': 53.46,\n",
       "    'apparentTemperature': 53.46,\n",
       "    'dewPoint': 43.33,\n",
       "    'humidity': 0.68,\n",
       "    'pressure': 1027.39,\n",
       "    'windSpeed': 19.45,\n",
       "    'windBearing': 135},\n",
       "   {'time': -999997200,\n",
       "    'summary': 'Clear',\n",
       "    'icon': 'clear-day',\n",
       "    'precipType': 'rain',\n",
       "    'temperature': 52.4,\n",
       "    'apparentTemperature': 52.4,\n",
       "    'dewPoint': 44.43,\n",
       "    'humidity': 0.74,\n",
       "    'pressure': 1027.39,\n",
       "    'windSpeed': 16.1,\n",
       "    'windBearing': 90},\n",
       "   {'time': -999993600,\n",
       "    'summary': 'Clear',\n",
       "    'icon': 'clear-night',\n",
       "    'precipType': 'rain',\n",
       "    'temperature': 51.32,\n",
       "    'apparentTemperature': 51.32,\n",
       "    'dewPoint': 43.33,\n",
       "    'humidity': 0.74,\n",
       "    'pressure': 1027.8,\n",
       "    'windSpeed': 8.05,\n",
       "    'windBearing': 90,\n",
       "    'uvIndex': 0},\n",
       "   {'time': -999990000,\n",
       "    'summary': 'Clear',\n",
       "    'icon': 'clear-night',\n",
       "    'precipType': 'rain',\n",
       "    'temperature': 51.32,\n",
       "    'apparentTemperature': 51.32,\n",
       "    'dewPoint': 44.43,\n",
       "    'humidity': 0.77,\n",
       "    'pressure': 1027.09,\n",
       "    'windSpeed': 8.05,\n",
       "    'windBearing': 90,\n",
       "    'uvIndex': 0},\n",
       "   {'time': -999986400,\n",
       "    'summary': 'Clear',\n",
       "    'icon': 'clear-night',\n",
       "    'precipType': 'rain',\n",
       "    'temperature': 50.41,\n",
       "    'apparentTemperature': 50.41,\n",
       "    'dewPoint': 43.33,\n",
       "    'humidity': 0.77,\n",
       "    'pressure': 1026.79,\n",
       "    'windSpeed': 8.05,\n",
       "    'windBearing': 90,\n",
       "    'uvIndex': 0},\n",
       "   {'time': -999982800,\n",
       "    'summary': 'Clear',\n",
       "    'icon': 'clear-night',\n",
       "    'precipType': 'rain',\n",
       "    'temperature': 50.41,\n",
       "    'apparentTemperature': 50.41,\n",
       "    'dewPoint': 43.33,\n",
       "    'humidity': 0.77,\n",
       "    'pressure': 1026.39,\n",
       "    'windSpeed': 5.82,\n",
       "    'windBearing': 90,\n",
       "    'uvIndex': 0}]},\n",
       " 'daily': {'data': [{'time': -1000062000,\n",
       "    'summary': 'Breezy starting in the afternoon, continuing until evening.',\n",
       "    'icon': 'wind',\n",
       "    'sunriseTime': -1000043682,\n",
       "    'sunsetTime': -999994502,\n",
       "    'moonPhase': 0.81,\n",
       "    'precipType': 'rain',\n",
       "    'temperatureHigh': 59.41,\n",
       "    'temperatureHighTime': -1000018800,\n",
       "    'temperatureLow': 42.49,\n",
       "    'temperatureLowTime': -999964800,\n",
       "    'apparentTemperatureHigh': 59.41,\n",
       "    'apparentTemperatureHighTime': -1000018800,\n",
       "    'apparentTemperatureLow': 37.6,\n",
       "    'apparentTemperatureLowTime': -999964800,\n",
       "    'dewPoint': 41.48,\n",
       "    'humidity': 0.73,\n",
       "    'pressure': 1027.07,\n",
       "    'windSpeed': 8.89,\n",
       "    'windBearing': 94,\n",
       "    'uvIndex': 0,\n",
       "    'uvIndexTime': -1000062000,\n",
       "    'temperatureMin': 38.33,\n",
       "    'temperatureMinTime': -1000040400,\n",
       "    'temperatureMax': 59.41,\n",
       "    'temperatureMaxTime': -1000018800,\n",
       "    'apparentTemperatureMin': 32.53,\n",
       "    'apparentTemperatureMinTime': -1000040400,\n",
       "    'apparentTemperatureMax': 59.41,\n",
       "    'apparentTemperatureMaxTime': -1000018800}]},\n",
       " 'flags': {'sources': ['cmc',\n",
       "   'gfs',\n",
       "   'hrrr',\n",
       "   'icon',\n",
       "   'isd',\n",
       "   'madis',\n",
       "   'nam',\n",
       "   'sref'],\n",
       "  'nearest-station': 0.329,\n",
       "  'units': 'us'},\n",
       " 'offset': -4}"
      ]
     },
     "execution_count": 228,
     "metadata": {},
     "output_type": "execute_result"
    }
   ],
   "source": [
    "park00 = requests.get(f'https://api.darksky.net/forecast/{API_KEY}/40.7829,-73.9654,-1000000000').json()\n",
    "park00"
   ]
  },
  {
   "cell_type": "code",
   "execution_count": null,
   "metadata": {},
   "outputs": [],
   "source": []
  }
 ],
 "metadata": {
  "kernelspec": {
   "display_name": "Python 3",
   "language": "python",
   "name": "python3"
  },
  "language_info": {
   "codemirror_mode": {
    "name": "ipython",
    "version": 3
   },
   "file_extension": ".py",
   "mimetype": "text/x-python",
   "name": "python",
   "nbconvert_exporter": "python",
   "pygments_lexer": "ipython3",
   "version": "3.7.1"
  }
 },
 "nbformat": 4,
 "nbformat_minor": 1
}
